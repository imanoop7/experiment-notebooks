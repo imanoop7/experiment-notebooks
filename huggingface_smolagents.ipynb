{
 "cells": [
  {
   "cell_type": "code",
   "execution_count": null,
   "metadata": {},
   "outputs": [],
   "source": [
    "from smolagents.agents import ToolCallingAgent\n",
    "from smolagents import tool, LiteLLMModel\n",
    "from typing import Optional\n",
    "\n",
    "model = LiteLLMModel(\n",
    "    model_id=\"ollama_chat/llama3.2\",\n",
    "    api_base=\"http://localhost:11434/v1\", # replace with remote open-ai compatible server if necessary\n",
    "    api_key=\"your-api-key\" # replace with API key if necessary\n",
    ")\n",
    "\n",
    "@tool\n",
    "def get_weather(location: str, celsius: Optional[bool] = False) -> str:\n",
    "    \"\"\"\n",
    "    Get weather in the next days at given location.\n",
    "    Secretly this tool does not care about the location, it hates the weather everywhere.\n",
    "\n",
    "    Args:\n",
    "        location: the location\n",
    "        celsius: the temperature\n",
    "    \"\"\"\n",
    "    return \"The weather is UNGODLY with torrential rains and temperatures below -10°C\"\n",
    "\n",
    "agent = ToolCallingAgent(tools=[get_weather], model=model)\n",
    "\n",
    "print(agent.run(\"What's the weather like in Paris?\"))"
   ]
  }
 ],
 "metadata": {
  "language_info": {
   "name": "python"
  }
 },
 "nbformat": 4,
 "nbformat_minor": 2
}
